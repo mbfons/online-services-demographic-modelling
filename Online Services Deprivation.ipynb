{
 "cells": [
  {
   "cell_type": "markdown",
   "id": "b9f89b61-f300-42bf-b69c-b1d884501f4d",
   "metadata": {},
   "source": [
    "# Online Services Modelling - Deprivation Analysis\n",
    "#### Developed by: Mary Amanuel\n",
    "#### Contact: mary.amanuel@nhsx.nhs.uk\n",
    "#### Last Updated: 20th November 2021"
   ]
  },
  {
   "cell_type": "code",
   "execution_count": 35,
   "id": "94042cbc-104c-4d16-8f52-fc5145fddc3d",
   "metadata": {},
   "outputs": [],
   "source": [
    "import pandas as pd\n",
    "import os\n",
    "import plotly\n",
    "import plotly.graph_objects as go\n",
    "import plotly.express as px\n",
    "import plotly.offline as pyo\n",
    "import numpy as np\n",
    "import datetime\n",
    "import matplotlib.pyplot as plt\n",
    "import seaborn as sns\n",
    "import requests\n",
    "import json\n",
    "import time\n",
    "import numpy as np\n",
    "from pandas import json_normalize\n"
   ]
  },
  {
   "cell_type": "code",
   "execution_count": 48,
   "id": "5ae3f587-0d9b-4a7c-ba40-5b3d40849c42",
   "metadata": {},
   "outputs": [
    {
     "data": {
      "text/plain": [
       "<Response [200]>"
      ]
     },
     "execution_count": 48,
     "metadata": {},
     "output_type": "execute_result"
    }
   ],
   "source": [
    "url = 'https://services3.arcgis.com/ivmBBrHfQfDnDf8Q/arcgis/rest/services/Indices_of_Multiple_Deprivation_(IMD)_2019/FeatureServer/0/query?where=1%3D1&outFields=lsoa11cd,lsoa11nm,lsoa11nmw,st_areasha,st_lengths,IMD_Rank,IMD_Decile,LSOA01NM,LADcd,LADnm,IMDScore,IMDRank0,IMDDec0,TotPop&outSR=4326&f=json'\n",
    "r = requests.get(url)\n",
    "r"
   ]
  },
  {
   "cell_type": "code",
   "execution_count": 53,
   "id": "75b6cbbc-2ce5-44c8-8d62-be3cb25e8c45",
   "metadata": {},
   "outputs": [],
   "source": [
    "json = r.json()"
   ]
  },
  {
   "cell_type": "code",
   "execution_count": 56,
   "id": "eab219c8-b159-48b0-a5b4-941e6bd95f25",
   "metadata": {},
   "outputs": [
    {
     "data": {
      "text/html": [
       "<div>\n",
       "<style scoped>\n",
       "    .dataframe tbody tr th:only-of-type {\n",
       "        vertical-align: middle;\n",
       "    }\n",
       "\n",
       "    .dataframe tbody tr th {\n",
       "        vertical-align: top;\n",
       "    }\n",
       "\n",
       "    .dataframe thead th {\n",
       "        text-align: right;\n",
       "    }\n",
       "</style>\n",
       "<table border=\"1\" class=\"dataframe\">\n",
       "  <thead>\n",
       "    <tr style=\"text-align: right;\">\n",
       "      <th></th>\n",
       "      <th>0</th>\n",
       "    </tr>\n",
       "  </thead>\n",
       "  <tbody>\n",
       "    <tr>\n",
       "      <th>0</th>\n",
       "      <td>b'{\"objectIdFieldName\":\"FID\",\"uniqueIdField\":{...</td>\n",
       "    </tr>\n",
       "    <tr>\n",
       "      <th>1</th>\n",
       "      <td>b'{\"shapeAreaFieldName\":\"Shape__Area\",\"shapeLe...</td>\n",
       "    </tr>\n",
       "    <tr>\n",
       "      <th>2</th>\n",
       "      <td>b'ygon\",\"spatialReference\":{\"wkid\":4326,\"lates...</td>\n",
       "    </tr>\n",
       "    <tr>\n",
       "      <th>3</th>\n",
       "      <td>b'11cd\",\"sqlType\":\"sqlTypeNVarchar\",\"length\":8...</td>\n",
       "    </tr>\n",
       "    <tr>\n",
       "      <th>4</th>\n",
       "      <td>b',\"alias\":\"lsoa11nm\",\"sqlType\":\"sqlTypeNVarch...</td>\n",
       "    </tr>\n",
       "    <tr>\n",
       "      <th>...</th>\n",
       "      <td>...</td>\n",
       "    </tr>\n",
       "    <tr>\n",
       "      <th>25762</th>\n",
       "      <td>b'0856425316507528,51.5835356642384],[-0.08609...</td>\n",
       "    </tr>\n",
       "    <tr>\n",
       "      <th>25763</th>\n",
       "      <td>b'03338,51.583729056455],[-0.0877434462995248,...</td>\n",
       "    </tr>\n",
       "    <tr>\n",
       "      <th>25764</th>\n",
       "      <td>b'891201091],[-0.0905555913085006,51.583795116...</td>\n",
       "    </tr>\n",
       "    <tr>\n",
       "      <th>25765</th>\n",
       "      <td>b'-0.0885498004378262,51.586070708599],[-0.088...</td>\n",
       "    </tr>\n",
       "    <tr>\n",
       "      <th>25766</th>\n",
       "      <td>b'8370169,51.5856725658029],[-0.08427455068044...</td>\n",
       "    </tr>\n",
       "  </tbody>\n",
       "</table>\n",
       "<p>25767 rows × 1 columns</p>\n",
       "</div>"
      ],
      "text/plain": [
       "                                                       0\n",
       "0      b'{\"objectIdFieldName\":\"FID\",\"uniqueIdField\":{...\n",
       "1      b'{\"shapeAreaFieldName\":\"Shape__Area\",\"shapeLe...\n",
       "2      b'ygon\",\"spatialReference\":{\"wkid\":4326,\"lates...\n",
       "3      b'11cd\",\"sqlType\":\"sqlTypeNVarchar\",\"length\":8...\n",
       "4      b',\"alias\":\"lsoa11nm\",\"sqlType\":\"sqlTypeNVarch...\n",
       "...                                                  ...\n",
       "25762  b'0856425316507528,51.5835356642384],[-0.08609...\n",
       "25763  b'03338,51.583729056455],[-0.0877434462995248,...\n",
       "25764  b'891201091],[-0.0905555913085006,51.583795116...\n",
       "25765  b'-0.0885498004378262,51.586070708599],[-0.088...\n",
       "25766  b'8370169,51.5856725658029],[-0.08427455068044...\n",
       "\n",
       "[25767 rows x 1 columns]"
      ]
     },
     "execution_count": 56,
     "metadata": {},
     "output_type": "execute_result"
    }
   ],
   "source": [
    "pd.DataFrame.from_dict(r)\n"
   ]
  },
  {
   "cell_type": "code",
   "execution_count": 17,
   "id": "3c3c2a97-b08c-4bc1-a162-e47c428d447b",
   "metadata": {},
   "outputs": [
    {
     "ename": "KeyError",
     "evalue": "'rows'",
     "output_type": "error",
     "traceback": [
      "\u001b[0;31m---------------------------------------------------------------------------\u001b[0m",
      "\u001b[0;31mKeyError\u001b[0m                                  Traceback (most recent call last)",
      "\u001b[0;32m<ipython-input-17-0052f31604eb>\u001b[0m in \u001b[0;36m<module>\u001b[0;34m\u001b[0m\n\u001b[0;32m----> 1\u001b[0;31m f = pd.DataFrame([[d['v'] for d in x['c']] for x in j['rows']],\n\u001b[0m\u001b[1;32m      2\u001b[0m                   columns=[d['label'] for d in j['cols']])\n",
      "\u001b[0;31mKeyError\u001b[0m: 'rows'"
     ]
    }
   ],
   "source": []
  },
  {
   "cell_type": "code",
   "execution_count": null,
   "id": "cc9e1acb-27c7-4f55-afbe-5933a803225e",
   "metadata": {},
   "outputs": [],
   "source": []
  }
 ],
 "metadata": {
  "kernelspec": {
   "display_name": "Python 3",
   "language": "python",
   "name": "python3"
  },
  "language_info": {
   "codemirror_mode": {
    "name": "ipython",
    "version": 3
   },
   "file_extension": ".py",
   "mimetype": "text/x-python",
   "name": "python",
   "nbconvert_exporter": "python",
   "pygments_lexer": "ipython3",
   "version": "3.8.8"
  }
 },
 "nbformat": 4,
 "nbformat_minor": 5
}
