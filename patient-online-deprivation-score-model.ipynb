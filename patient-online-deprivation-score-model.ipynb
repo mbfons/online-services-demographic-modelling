{
 "cells": [
  {
   "cell_type": "markdown",
   "id": "1fbdfb2b-658d-4426-9f2d-6d1d7f1ee7cc",
   "metadata": {},
   "source": [
    "# patient-online-deprivation-score-model\n",
    "#### Developed by: Mary Amanuel\n",
    "#### Contact: mary.amanuel@nhsx.nhs.uk\n",
    "#### Created: 22nd November 2021\n",
    "#### Last updated: 22nd November 2021\n"
   ]
  },
  {
   "cell_type": "code",
   "execution_count": null,
   "id": "5547a418-0f70-4fce-a54d-612d3576a0b0",
   "metadata": {},
   "outputs": [],
   "source": [
    "import pandas as pd\n",
    "import os\n",
    "import plotly\n",
    "import plotly.graph_objects as go\n",
    "import plotly.express as px\n",
    "import numpy as np\n",
    "import datetime\n",
    "import matplotlib.pyplot as plt\n",
    "import seaborn as sns\n",
    "import requests\n",
    "import json"
   ]
  },
  {
   "cell_type": "markdown",
   "id": "2a21f349-5d15-4667-9c1c-55a5df60991c",
   "metadata": {},
   "source": [
    "##### 'Public Health England. Public Health Profiles. [22/11/2021] https://fingertips.phe.org.uk © Crown copyright [2021]'\n",
    "##### Technical documentation for data here: https://assets.publishing.service.gov.uk/government/uploads/system/uploads/attachment_data/file/833951/IoD2019_Technical_Report.pdf\n",
    "\n",
    "##### Research documentation for data here: https://assets.publishing.service.gov.uk/government/uploads/system/uploads/attachment_data/file/833947/IoD2019_Research_Report.pdf"
   ]
  },
  {
   "cell_type": "code",
   "execution_count": null,
   "id": "41fc1c6c-61b3-4c69-b16d-154dbb91183c",
   "metadata": {},
   "outputs": [],
   "source": [
    "# Import fingertips_py package - This is a python package to interact with Public Health England’s [Fingertips](https://fingertips.phe.org.uk/) data tool. Fingertips is a major repository of population and public health indicators for England.\n",
    "## https://fingertips-py.readthedocs.io/en/latest/#indices-and-table\n",
    "## Installing the fingertips_py library (if not already)\n",
    "\n",
    "!pip install fingertips_py\n",
    "import fingertips_py"
   ]
  },
  {
   "cell_type": "code",
   "execution_count": null,
   "id": "6b19f520-2a0b-4f22-b7cb-0c0f44563df9",
   "metadata": {},
   "outputs": [],
   "source": [
    "national_gp_profiles = fingertips_py.get_profile_by_name('National General Practice Profiles')\n",
    "national_gp_profiles"
   ]
  },
  {
   "cell_type": "code",
   "execution_count": null,
   "id": "3f73a383-f55b-408b-8c73-1c2f62171bb0",
   "metadata": {},
   "outputs": [],
   "source": [
    "## Check the relevant geographies that can be called upon as area id. For instance, it can be seen that 'General Practice' is 7\n",
    "fingertips_py.metadata.get_area_types_as_dict()"
   ]
  },
  {
   "cell_type": "code",
   "execution_count": null,
   "id": "f4eb2dea-74a8-4f6f-a25f-3a5b888f9a8c",
   "metadata": {},
   "outputs": [],
   "source": [
    "# Obtain dataframe with metadata on metrics under chosen topic (can instead just navigate website direct)\n",
    "national_gp_profiles_meta = fingertips_py.get_metadata_for_profile_as_dataframe(national_gp_profiles['Id'])\n",
    "national_gp_profiles_meta"
   ]
  },
  {
   "cell_type": "code",
   "execution_count": null,
   "id": "a288ec84-8979-429d-a2ea-948a3bbfb9c6",
   "metadata": {},
   "outputs": [],
   "source": [
    "gp_and_england_deprivation_score = fingertips_py.retrieve_data.get_data_by_indicator_ids(indicator_ids=[93553],area_type_id =[7] ) # 7 for practice (we know this topic area has practice breakdown for sure, by design), 93553 for our metric of interest\n",
    "gp_and_england_deprivation_score"
   ]
  },
  {
   "cell_type": "code",
   "execution_count": null,
   "id": "96216466-cbde-43fe-8f14-dd7d50f4ba5f",
   "metadata": {},
   "outputs": [],
   "source": [
    "gp_and_england_deprivation_score.info()"
   ]
  },
  {
   "cell_type": "code",
   "execution_count": null,
   "id": "7bde2bc0-1b9d-4220-aab3-c73439909afa",
   "metadata": {},
   "outputs": [],
   "source": [
    "gp_and_england_deprivation_score = gp_and_england_deprivation_score[['Area Code', 'Area Name', 'Area Type', 'Time period', 'Value']]\n",
    "gp_and_england_deprivation_score"
   ]
  },
  {
   "cell_type": "code",
   "execution_count": null,
   "id": "769d15f3-afac-441b-b261-900588922b2d",
   "metadata": {},
   "outputs": [],
   "source": [
    "gp_deprivation_score_2019 = gp_and_england_deprivation_score[gp_and_england_deprivation_score['Area Type'].isin(['GP'])]\n",
    "gp_deprivation_score_2019 = gp_deprivation_score_2019.rename(columns={'Area Code' :'Area_Code', \n",
    "                                          'Area Name' : 'GP_Name',\n",
    "                                          'Area Type' : 'Area_Type',\n",
    "                                          'Time period' : 'Time_Period', \n",
    "                                          'Value' : 'Deprivation_Score_IMD_2019'})\n",
    "gp_deprivation_score_2019['GP_Name'] = gp_deprivation_score_2019['GP_Name'].str.upper()"
   ]
  },
  {
   "cell_type": "code",
   "execution_count": null,
   "id": "407767d0-a1bc-43b8-a4b9-647913551e98",
   "metadata": {},
   "outputs": [],
   "source": [
    "gp_deprivation_score_2019"
   ]
  },
  {
   "cell_type": "code",
   "execution_count": null,
   "id": "1f8f1676-054a-45df-be53-8c8e3c6bff21",
   "metadata": {},
   "outputs": [],
   "source": [
    "gp_deprivation_score_2019.describe()"
   ]
  },
  {
   "cell_type": "code",
   "execution_count": null,
   "id": "a7a1f3c0-e2be-45ce-b335-857007ee4dca",
   "metadata": {},
   "outputs": [],
   "source": [
    "gp_deprivation_score_2019['GP_Rank'] = gp_deprivation_score_2019['Deprivation_Score_IMD_2019'].rank(ascending = False)\n",
    "gp_deprivation_score_2019"
   ]
  },
  {
   "cell_type": "code",
   "execution_count": null,
   "id": "90b2d40c-683a-4145-920e-6480d8df4e4d",
   "metadata": {},
   "outputs": [],
   "source": [
    "gp_deprivation_score_2019_ranking = gp_deprivation_score_2019.sort_values(by='GP_Rank', ascending=True)\n",
    "gp_deprivation_score_2019_ranking['Percentile_Rank'] = gp_deprivation_score_2019.Deprivation_Score_IMD_2019.rank(pct = True)\n",
    "gp_deprivation_score_2019_ranking"
   ]
  },
  {
   "cell_type": "code",
   "execution_count": null,
   "id": "4b868867-c7ac-4131-a833-3d8557725283",
   "metadata": {},
   "outputs": [],
   "source": [
    "gp_deprivation_score_2019_ranking['decile'] = pd.qcut(gp_deprivation_score_2019_ranking['Deprivation_Score_IMD_2019'], 10, labels=['10% least deprived', '20% least deprived', '30% least deprived', '40% least deprived', '50% least deprived', '50% most deprived', '40% most deprived', '30% most deprived', '20% most deprived', '10% most deprived'])\n",
    "gp_deprivation_score_2019_ranking"
   ]
  },
  {
   "cell_type": "markdown",
   "id": "777449b5-0e48-4f66-8b55-94d77e911ee8",
   "metadata": {},
   "source": [
    "Patient Online Data 2019"
   ]
  },
  {
   "cell_type": "code",
   "execution_count": null,
   "id": "fac4826a-b25c-47dc-aa27-751207687927",
   "metadata": {},
   "outputs": [],
   "source": []
  }
 ],
 "metadata": {
  "kernelspec": {
   "display_name": "Python 3",
   "language": "python",
   "name": "python3"
  },
  "language_info": {
   "codemirror_mode": {
    "name": "ipython",
    "version": 3
   },
   "file_extension": ".py",
   "mimetype": "text/x-python",
   "name": "python",
   "nbconvert_exporter": "python",
   "pygments_lexer": "ipython3",
   "version": "3.8.8"
  }
 },
 "nbformat": 4,
 "nbformat_minor": 5
}
